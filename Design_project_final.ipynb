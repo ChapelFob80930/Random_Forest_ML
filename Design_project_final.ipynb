{
  "nbformat": 4,
  "nbformat_minor": 0,
  "metadata": {
    "colab": {
      "provenance": [],
      "include_colab_link": true
    },
    "kernelspec": {
      "name": "python3",
      "display_name": "Python 3"
    },
    "language_info": {
      "name": "python"
    }
  },
  "cells": [
    {
      "cell_type": "markdown",
      "metadata": {
        "id": "view-in-github",
        "colab_type": "text"
      },
      "source": [
        "<a href=\"https://colab.research.google.com/github/ChapelFob80930/Random_Forest_ML/blob/main/Design_project_final.ipynb\" target=\"_parent\"><img src=\"https://colab.research.google.com/assets/colab-badge.svg\" alt=\"Open In Colab\"/></a>"
      ]
    },
    {
      "cell_type": "code",
      "source": [
        "pip install category_encoders"
      ],
      "metadata": {
        "colab": {
          "base_uri": "https://localhost:8080/"
        },
        "id": "z7efo_UK3vg7",
        "outputId": "bdf5e36c-2b9b-4fbe-fed2-bf970f03bb25"
      },
      "execution_count": 2,
      "outputs": [
        {
          "output_type": "stream",
          "name": "stdout",
          "text": [
            "Collecting category_encoders\n",
            "  Downloading category_encoders-2.6.3-py2.py3-none-any.whl (81 kB)\n",
            "\u001b[?25l     \u001b[90m━━━━━━━━━━━━━━━━━━━━━━━━━━━━━━━━━━━━━━━━\u001b[0m \u001b[32m0.0/81.9 kB\u001b[0m \u001b[31m?\u001b[0m eta \u001b[36m-:--:--\u001b[0m\r\u001b[2K     \u001b[90m━━━━━━━━━━━━━━━━━━━━━━━━━━━━━━━━━━━━━━━━\u001b[0m \u001b[32m81.9/81.9 kB\u001b[0m \u001b[31m2.8 MB/s\u001b[0m eta \u001b[36m0:00:00\u001b[0m\n",
            "\u001b[?25hRequirement already satisfied: numpy>=1.14.0 in /usr/local/lib/python3.10/dist-packages (from category_encoders) (1.25.2)\n",
            "Requirement already satisfied: scikit-learn>=0.20.0 in /usr/local/lib/python3.10/dist-packages (from category_encoders) (1.2.2)\n",
            "Requirement already satisfied: scipy>=1.0.0 in /usr/local/lib/python3.10/dist-packages (from category_encoders) (1.11.4)\n",
            "Requirement already satisfied: statsmodels>=0.9.0 in /usr/local/lib/python3.10/dist-packages (from category_encoders) (0.14.2)\n",
            "Requirement already satisfied: pandas>=1.0.5 in /usr/local/lib/python3.10/dist-packages (from category_encoders) (2.0.3)\n",
            "Requirement already satisfied: patsy>=0.5.1 in /usr/local/lib/python3.10/dist-packages (from category_encoders) (0.5.6)\n",
            "Requirement already satisfied: python-dateutil>=2.8.2 in /usr/local/lib/python3.10/dist-packages (from pandas>=1.0.5->category_encoders) (2.8.2)\n",
            "Requirement already satisfied: pytz>=2020.1 in /usr/local/lib/python3.10/dist-packages (from pandas>=1.0.5->category_encoders) (2023.4)\n",
            "Requirement already satisfied: tzdata>=2022.1 in /usr/local/lib/python3.10/dist-packages (from pandas>=1.0.5->category_encoders) (2024.1)\n",
            "Requirement already satisfied: six in /usr/local/lib/python3.10/dist-packages (from patsy>=0.5.1->category_encoders) (1.16.0)\n",
            "Requirement already satisfied: joblib>=1.1.1 in /usr/local/lib/python3.10/dist-packages (from scikit-learn>=0.20.0->category_encoders) (1.4.0)\n",
            "Requirement already satisfied: threadpoolctl>=2.0.0 in /usr/local/lib/python3.10/dist-packages (from scikit-learn>=0.20.0->category_encoders) (3.4.0)\n",
            "Requirement already satisfied: packaging>=21.3 in /usr/local/lib/python3.10/dist-packages (from statsmodels>=0.9.0->category_encoders) (24.0)\n",
            "Installing collected packages: category_encoders\n",
            "Successfully installed category_encoders-2.6.3\n"
          ]
        }
      ]
    },
    {
      "cell_type": "code",
      "execution_count": 3,
      "metadata": {
        "colab": {
          "base_uri": "https://localhost:8080/"
        },
        "id": "gPJR3_nZ3AkH",
        "outputId": "49708855-9230-481d-e68d-e39b066345e8"
      },
      "outputs": [
        {
          "output_type": "stream",
          "name": "stdout",
          "text": [
            "Libraries used in this project:\n",
            "- NumPy 1.25.2\n",
            "- Pandas 2.0.3\n",
            "- Matplotlib 3.7.1\n",
            "- SciPy 1.11.4\n",
            "- Scikit-learn 1.2.2\n",
            "- Python 3.10.12 (main, Nov 20 2023, 15:14:05) [GCC 11.4.0]\n",
            "\n"
          ]
        }
      ],
      "source": [
        "import sys                             # Read system parameters\n",
        "import os                              # Interact with the operating system\n",
        "import numpy as np                     # Work with multi-dimensional arrays and matrices\n",
        "import pandas as pd                    # Manipulate and analyze data\n",
        "import matplotlib                      # Create 2D charts\n",
        "import matplotlib as mpl\n",
        "import matplotlib.pyplot as plt\n",
        "import scipy as sp                     # Perform scientific computing and advanced mathematics\n",
        "import sklearn                         # Perform data mining and analysis\n",
        "import seaborn as sb                   # Perform data visualization\n",
        "from sklearn.preprocessing import LabelEncoder\n",
        "from category_encoders.binary import BinaryEncoder\n",
        "\n",
        "print('Libraries used in this project:')\n",
        "print('- NumPy {}'.format(np.__version__))\n",
        "print('- Pandas {}'.format(pd.__version__))\n",
        "print('- Matplotlib {}'.format(matplotlib.__version__))\n",
        "print('- SciPy {}'.format(sp.__version__))\n",
        "print('- Scikit-learn {}'.format(sklearn.__version__))\n",
        "print('- Python {}\\n'.format(sys.version))"
      ]
    },
    {
      "cell_type": "code",
      "source": [
        "from google.colab import drive\n",
        "drive.mount(\"/content/drive\")\n"
      ],
      "metadata": {
        "colab": {
          "base_uri": "https://localhost:8080/"
        },
        "id": "RRX4u5pr3mbK",
        "outputId": "3f25f21b-80c9-45b2-be07-94b4bf3cc42e"
      },
      "execution_count": 4,
      "outputs": [
        {
          "output_type": "stream",
          "name": "stdout",
          "text": [
            "Mounted at /content/drive\n"
          ]
        }
      ]
    },
    {
      "cell_type": "code",
      "source": [
        "import pandas as pd\n",
        "df1=pd.read_csv('/content/drive/MyDrive/final dataset 2.csv')\n",
        "print(df1.head().to_string())"
      ],
      "metadata": {
        "colab": {
          "base_uri": "https://localhost:8080/"
        },
        "id": "_7RmJB7T61eJ",
        "outputId": "2c57fa2f-d0d2-46d1-b3b5-f782793d1bee"
      },
      "execution_count": 5,
      "outputs": [
        {
          "output_type": "stream",
          "name": "stdout",
          "text": [
            "        Age  Gender Occupation        Days_Indoors Growing_Stress Quarantine_Frustrations Changes_Habits Mental_Health_History Weight_Change Mood_Swings Coping_Struggles Work_Interest Social_Weakness  living_expenses  other_expenses  depressed\n",
            "0     20-25  Female  Corporate           1-14 days            Yes                     Yes             No                   Yes           Yes      Medium               No            No             Yes         26692283        28203066          0\n",
            "1  30-Above    Male     Others          31-60 days            Yes                     Yes          Maybe                    No            No        High               No            No             Yes         26692283        28203066          1\n",
            "2  30-Above  Female    Student    Go out Every day             No                      No            Yes                    No            No      Medium              Yes         Maybe              No         26692283        28203066          0\n",
            "3     25-30    Male     Others           1-14 days            Yes                      No          Maybe                    No         Maybe      Medium               No         Maybe             Yes           397715        44042267          0\n",
            "4     16-20  Female    Student  More than 2 months            Yes                     Yes            Yes                    No           Yes      Medium              Yes         Maybe              No         80877619        74503502          0\n"
          ]
        }
      ]
    },
    {
      "cell_type": "code",
      "source": [
        "df1.isnull().sum()"
      ],
      "metadata": {
        "colab": {
          "base_uri": "https://localhost:8080/"
        },
        "id": "e2X-SYk87i8N",
        "outputId": "cfee680b-2156-4458-a5e2-b7ff5f5d6651"
      },
      "execution_count": 6,
      "outputs": [
        {
          "output_type": "execute_result",
          "data": {
            "text/plain": [
              "Age                        605\n",
              "Gender                     605\n",
              "Occupation                 605\n",
              "Days_Indoors               605\n",
              "Growing_Stress             605\n",
              "Quarantine_Frustrations    605\n",
              "Changes_Habits             605\n",
              "Mental_Health_History      605\n",
              "Weight_Change              605\n",
              "Mood_Swings                605\n",
              "Coping_Struggles           605\n",
              "Work_Interest              605\n",
              "Social_Weakness            605\n",
              "living_expenses              0\n",
              "other_expenses               0\n",
              "depressed                    0\n",
              "dtype: int64"
            ]
          },
          "metadata": {},
          "execution_count": 6
        }
      ]
    },
    {
      "cell_type": "code",
      "source": [
        "df1=df1.dropna()\n",
        "df1.isnull().sum()"
      ],
      "metadata": {
        "colab": {
          "base_uri": "https://localhost:8080/"
        },
        "id": "KJG873I5Uc0B",
        "outputId": "3f0f29b3-e2a9-4bef-9b5d-deea21db6769"
      },
      "execution_count": 7,
      "outputs": [
        {
          "output_type": "execute_result",
          "data": {
            "text/plain": [
              "Age                        0\n",
              "Gender                     0\n",
              "Occupation                 0\n",
              "Days_Indoors               0\n",
              "Growing_Stress             0\n",
              "Quarantine_Frustrations    0\n",
              "Changes_Habits             0\n",
              "Mental_Health_History      0\n",
              "Weight_Change              0\n",
              "Mood_Swings                0\n",
              "Coping_Struggles           0\n",
              "Work_Interest              0\n",
              "Social_Weakness            0\n",
              "living_expenses            0\n",
              "other_expenses             0\n",
              "depressed                  0\n",
              "dtype: int64"
            ]
          },
          "metadata": {},
          "execution_count": 7
        }
      ]
    },
    {
      "cell_type": "code",
      "source": [
        "df1.columns"
      ],
      "metadata": {
        "colab": {
          "base_uri": "https://localhost:8080/"
        },
        "id": "HZ5JnmLqKDSk",
        "outputId": "0313077b-d4ba-424a-fd4c-1daaa7ad1a08"
      },
      "execution_count": 8,
      "outputs": [
        {
          "output_type": "execute_result",
          "data": {
            "text/plain": [
              "Index(['Age', 'Gender', 'Occupation', 'Days_Indoors', 'Growing_Stress',\n",
              "       'Quarantine_Frustrations', 'Changes_Habits', 'Mental_Health_History',\n",
              "       'Weight_Change', 'Mood_Swings', 'Coping_Struggles', 'Work_Interest',\n",
              "       'Social_Weakness', 'living_expenses', 'other_expenses', 'depressed'],\n",
              "      dtype='object')"
            ]
          },
          "metadata": {},
          "execution_count": 8
        }
      ]
    },
    {
      "cell_type": "code",
      "source": [
        "df = pd.get_dummies(df1, columns=['Age', 'Gender', 'Occupation', 'Days_Indoors', 'Growing_Stress',\n",
        "       'Quarantine_Frustrations', 'Changes_Habits', 'Mental_Health_History',\n",
        "       'Weight_Change', 'Mood_Swings', 'Coping_Struggles', 'Work_Interest',\n",
        "       'Social_Weakness'])\n",
        "print(df.head().to_string())"
      ],
      "metadata": {
        "colab": {
          "base_uri": "https://localhost:8080/"
        },
        "id": "BbU8k5n78xAW",
        "outputId": "ef138dd4-95a0-466c-c9af-ee2a102eb99a"
      },
      "execution_count": 10,
      "outputs": [
        {
          "output_type": "stream",
          "name": "stdout",
          "text": [
            "   living_expenses  other_expenses  depressed  Age_16-20  Age_20-25  Age_25-30  Age_30-Above  Gender_Female  Gender_Male  Occupation_Business  Occupation_Corporate  Occupation_Housewife  Occupation_Others  Occupation_Student  Days_Indoors_1-14 days  Days_Indoors_15-30 days  Days_Indoors_31-60 days  Days_Indoors_Go out Every day  Days_Indoors_More than 2 months  Growing_Stress_Maybe  Growing_Stress_No  Growing_Stress_Yes  Quarantine_Frustrations_Maybe  Quarantine_Frustrations_No  Quarantine_Frustrations_Yes  Changes_Habits_Maybe  Changes_Habits_No  Changes_Habits_Yes  Mental_Health_History_Maybe  Mental_Health_History_No  Mental_Health_History_Yes  Weight_Change_Maybe  Weight_Change_No  Weight_Change_Yes  Mood_Swings_High  Mood_Swings_Low  Mood_Swings_Medium  Coping_Struggles_No  Coping_Struggles_Yes  Work_Interest_Maybe  Work_Interest_No  Work_Interest_Yes  Social_Weakness_Maybe  Social_Weakness_No  Social_Weakness_Yes\n",
            "0         26692283        28203066          0      False       True      False         False           True        False                False                  True                 False              False               False                    True                    False                    False                          False                            False                 False              False                True                          False                       False                         True                 False               True               False                        False                     False                       True                False             False               True             False            False                True                 True                 False                False              True              False                  False               False                 True\n",
            "1         26692283        28203066          1      False      False      False          True          False         True                False                 False                 False               True               False                   False                    False                     True                          False                            False                 False              False                True                          False                       False                         True                  True              False               False                        False                      True                      False                False              True              False              True            False               False                 True                 False                False              True              False                  False               False                 True\n",
            "2         26692283        28203066          0      False      False      False          True           True        False                False                 False                 False              False                True                   False                    False                    False                           True                            False                 False               True               False                          False                        True                        False                 False              False                True                        False                      True                      False                False              True              False             False            False                True                False                  True                 True             False              False                  False                True                False\n",
            "3           397715        44042267          0      False      False       True         False          False         True                False                 False                 False               True               False                    True                    False                    False                          False                            False                 False              False                True                          False                        True                        False                  True              False               False                        False                      True                      False                 True             False              False             False            False                True                 True                 False                 True             False              False                  False               False                 True\n",
            "4         80877619        74503502          0       True      False      False         False           True        False                False                 False                 False              False                True                   False                    False                    False                          False                             True                 False              False                True                          False                       False                         True                 False              False                True                        False                      True                      False                False             False               True             False            False                True                False                  True                 True             False              False                  False                True                False\n"
          ]
        }
      ]
    },
    {
      "cell_type": "code",
      "source": [
        "df.columns"
      ],
      "metadata": {
        "colab": {
          "base_uri": "https://localhost:8080/"
        },
        "id": "g9PTepGE3nmS",
        "outputId": "3e898ad4-46e5-4042-9532-711aa26afad8"
      },
      "execution_count": 11,
      "outputs": [
        {
          "output_type": "execute_result",
          "data": {
            "text/plain": [
              "Index(['living_expenses', 'other_expenses', 'depressed', 'Age_16-20',\n",
              "       'Age_20-25', 'Age_25-30', 'Age_30-Above', 'Gender_Female',\n",
              "       'Gender_Male', 'Occupation_Business', 'Occupation_Corporate',\n",
              "       'Occupation_Housewife', 'Occupation_Others', 'Occupation_Student',\n",
              "       'Days_Indoors_1-14 days', 'Days_Indoors_15-30 days',\n",
              "       'Days_Indoors_31-60 days', 'Days_Indoors_Go out Every day',\n",
              "       'Days_Indoors_More than 2 months', 'Growing_Stress_Maybe',\n",
              "       'Growing_Stress_No', 'Growing_Stress_Yes',\n",
              "       'Quarantine_Frustrations_Maybe', 'Quarantine_Frustrations_No',\n",
              "       'Quarantine_Frustrations_Yes', 'Changes_Habits_Maybe',\n",
              "       'Changes_Habits_No', 'Changes_Habits_Yes',\n",
              "       'Mental_Health_History_Maybe', 'Mental_Health_History_No',\n",
              "       'Mental_Health_History_Yes', 'Weight_Change_Maybe', 'Weight_Change_No',\n",
              "       'Weight_Change_Yes', 'Mood_Swings_High', 'Mood_Swings_Low',\n",
              "       'Mood_Swings_Medium', 'Coping_Struggles_No', 'Coping_Struggles_Yes',\n",
              "       'Work_Interest_Maybe', 'Work_Interest_No', 'Work_Interest_Yes',\n",
              "       'Social_Weakness_Maybe', 'Social_Weakness_No', 'Social_Weakness_Yes'],\n",
              "      dtype='object')"
            ]
          },
          "metadata": {},
          "execution_count": 11
        }
      ]
    },
    {
      "cell_type": "code",
      "source": [
        "from sklearn.model_selection import train_test_split\n",
        "label_columns=['depressed']\n",
        "training_columns=['living_expenses', 'other_expenses', 'depressed', 'Age_16-20',\n",
        "       'Age_20-25', 'Age_25-30', 'Age_30-Above', 'Gender_Female',\n",
        "       'Gender_Male', 'Occupation_Business', 'Occupation_Corporate',\n",
        "       'Occupation_Housewife', 'Occupation_Others', 'Occupation_Student',\n",
        "       'Days_Indoors_1-14 days', 'Days_Indoors_15-30 days',\n",
        "       'Days_Indoors_31-60 days', 'Days_Indoors_Go out Every day',\n",
        "       'Days_Indoors_More than 2 months', 'Growing_Stress_Maybe',\n",
        "       'Growing_Stress_No', 'Growing_Stress_Yes',\n",
        "       'Quarantine_Frustrations_Maybe', 'Quarantine_Frustrations_No',\n",
        "       'Quarantine_Frustrations_Yes', 'Changes_Habits_Maybe',\n",
        "       'Changes_Habits_No', 'Changes_Habits_Yes',\n",
        "       'Mental_Health_History_Maybe', 'Mental_Health_History_No',\n",
        "       'Mental_Health_History_Yes', 'Weight_Change_Maybe', 'Weight_Change_No',\n",
        "       'Weight_Change_Yes', 'Mood_Swings_High', 'Mood_Swings_Low',\n",
        "       'Mood_Swings_Medium', 'Coping_Struggles_No', 'Coping_Struggles_Yes',\n",
        "       'Work_Interest_Maybe', 'Work_Interest_No', 'Work_Interest_Yes',\n",
        "       'Social_Weakness_Maybe', 'Social_Weakness_No', 'Social_Weakness_Yes']\n",
        "x_train,x_test,y_train,y_test=train_test_split(df[training_columns],df[label_columns],train_size=0.7)\n",
        "print(x_train.shape)\n",
        "print(x_test.shape)\n",
        "print(y_train.shape)\n",
        "print(y_test.shape)"
      ],
      "metadata": {
        "colab": {
          "base_uri": "https://localhost:8080/"
        },
        "id": "qqhy8hDwZIJK",
        "outputId": "816fad51-e7d4-429e-c86f-d1008a4f03c6"
      },
      "execution_count": 12,
      "outputs": [
        {
          "output_type": "stream",
          "name": "stdout",
          "text": [
            "(576, 45)\n",
            "(248, 45)\n",
            "(576, 1)\n",
            "(248, 1)\n"
          ]
        }
      ]
    },
    {
      "cell_type": "code",
      "source": [
        "!pip install scikit-learn==1.2.2"
      ],
      "metadata": {
        "colab": {
          "base_uri": "https://localhost:8080/"
        },
        "id": "Y_gEmdIxR37R",
        "outputId": "a995e8df-2160-420b-f8ac-a89c2e50e583"
      },
      "execution_count": 13,
      "outputs": [
        {
          "output_type": "stream",
          "name": "stdout",
          "text": [
            "Requirement already satisfied: scikit-learn==1.2.2 in /usr/local/lib/python3.10/dist-packages (1.2.2)\n",
            "Requirement already satisfied: numpy>=1.17.3 in /usr/local/lib/python3.10/dist-packages (from scikit-learn==1.2.2) (1.25.2)\n",
            "Requirement already satisfied: scipy>=1.3.2 in /usr/local/lib/python3.10/dist-packages (from scikit-learn==1.2.2) (1.11.4)\n",
            "Requirement already satisfied: joblib>=1.1.1 in /usr/local/lib/python3.10/dist-packages (from scikit-learn==1.2.2) (1.4.0)\n",
            "Requirement already satisfied: threadpoolctl>=2.0.0 in /usr/local/lib/python3.10/dist-packages (from scikit-learn==1.2.2) (3.4.0)\n"
          ]
        }
      ]
    },
    {
      "cell_type": "code",
      "source": [
        "from sklearn.ensemble import RandomForestClassifier\n",
        "from sklearn.metrics import accuracy_score,precision_score,f1_score,recall_score\n",
        "\n",
        "# Recreate the forest with the same parameters.\n",
        "forest = RandomForestClassifier(n_estimators = 100,\n",
        "                                criterion = 'gini',\n",
        "                                max_depth = 6,\n",
        "                                min_samples_leaf = 10,\n",
        "                                min_samples_split = 78,\n",
        "                                bootstrap = True,\n",
        "                                random_state = 1912)\n",
        "\n",
        "# Fit the forest to the training data.\n",
        "forest.fit(x_train, y_train)\n",
        "\n",
        "# Predict the classes for the test data.\n",
        "prediction = forest.predict(x_test)\n",
        "\n",
        "\n",
        "accuracyscore = accuracy_score(y_test, prediction)\n",
        "precisionscore=precision_score(y_test,prediction)\n",
        "f1score=f1_score(y_test,prediction)\n",
        "recallscore=recall_score(y_test,prediction)\n",
        "\n",
        "\n",
        "\n",
        "print('Accuracy: {:.0f}%'.format(accuracyscore * 100))\n",
        "print('Precision:',precisionscore)\n",
        "print('f1 score: {:.2f}'.format(f1score))\n",
        "print('Recall: {:.2f}'.format(recallscore))"
      ],
      "metadata": {
        "colab": {
          "base_uri": "https://localhost:8080/"
        },
        "id": "HKXeYN_yZe9u",
        "outputId": "e2a71954-6227-4bae-cbc8-28845774d602"
      },
      "execution_count": 14,
      "outputs": [
        {
          "output_type": "stream",
          "name": "stderr",
          "text": [
            "<ipython-input-14-e42ad1613b5f>:14: DataConversionWarning: A column-vector y was passed when a 1d array was expected. Please change the shape of y to (n_samples,), for example using ravel().\n",
            "  forest.fit(x_train, y_train)\n"
          ]
        },
        {
          "output_type": "stream",
          "name": "stdout",
          "text": [
            "Accuracy: 90%\n",
            "Precision: 1.0\n",
            "f1 score: 0.56\n",
            "Recall: 0.38\n"
          ]
        }
      ]
    },
    {
      "cell_type": "code",
      "source": [
        "predicted_values=y_test.copy()\n",
        "predicted_values['predicted']=prediction\n",
        "print(predicted_values.to_string())"
      ],
      "metadata": {
        "id": "qKNVj7VIU2YZ"
      },
      "execution_count": null,
      "outputs": []
    }
  ]
}